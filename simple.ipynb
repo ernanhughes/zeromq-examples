{
 "cells": [
  {
   "cell_type": "code",
   "execution_count": null,
   "metadata": {},
   "outputs": [
    {
     "ename": "",
     "evalue": "",
     "output_type": "error",
     "traceback": [
      "\u001b[1;31mThe Kernel crashed while executing code in the current cell or a previous cell. \n",
      "\u001b[1;31mPlease review the code in the cell(s) to identify a possible cause of the failure. \n",
      "\u001b[1;31mClick <a href='https://aka.ms/vscodeJupyterKernelCrash'>here</a> for more info. \n",
      "\u001b[1;31mView Jupyter <a href='command:jupyter.viewOutput'>log</a> for further details."
     ]
    }
   ],
   "source": [
    "from typing import Optional\n",
    "from gevent import spawn, spawn_later\n",
    "import zmq.green as zmq\n",
    "\n",
    "# server\n",
    "print(zmq.Context)\n",
    "ctx = zmq.Context()\n",
    "sock = ctx.socket(zmq.PUSH)\n",
    "sock.bind('ipc:///./zmqtest')\n",
    "\n",
    "spawn(sock.send_pyobj, ('this', 'is', 'a', 'python', 'tuple'))\n",
    "spawn_later(1, sock.send_pyobj, {'hi': 1234})\n",
    "spawn_later(\n",
    "    2, sock.send_pyobj, ({'this': ['is a more complicated object', ':)']}, 42, 42, 42)\n",
    ")\n",
    "spawn_later(3, sock.send_pyobj, 'foobar')\n",
    "spawn_later(4, sock.send_pyobj, 'quit')\n",
    "\n",
    "\n",
    "# client\n",
    "ctx = zmq.Context()  # create a new context to kick the wheels\n",
    "sock = ctx.socket(zmq.PULL)\n",
    "sock.connect('ipc:///./zmqtest')\n",
    "\n",
    "\n",
    "def get_objs(sock: zmq.Socket):\n",
    "    while True:\n",
    "        o = sock.recv_pyobj()\n",
    "        print('received python object:', o)\n",
    "        if o == 'quit':\n",
    "            print('exiting.')\n",
    "            break\n",
    "\n",
    "\n",
    "def print_every(s: str, t: Optional[float] = None):\n",
    "    print(s)\n",
    "    if t:\n",
    "        spawn_later(t, print_every, s, t)\n",
    "\n",
    "\n",
    "print_every('printing every half second', 0.5)\n",
    "spawn(get_objs, sock).join()"
   ]
  }
 ],
 "metadata": {
  "kernelspec": {
   "display_name": "Python 3",
   "language": "python",
   "name": "python3"
  },
  "language_info": {
   "codemirror_mode": {
    "name": "ipython",
    "version": 3
   },
   "file_extension": ".py",
   "mimetype": "text/x-python",
   "name": "python",
   "nbconvert_exporter": "python",
   "pygments_lexer": "ipython3",
   "version": "3.11.9"
  }
 },
 "nbformat": 4,
 "nbformat_minor": 2
}
