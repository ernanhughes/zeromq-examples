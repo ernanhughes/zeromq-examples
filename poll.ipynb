{
 "cells": [
  {
   "cell_type": "code",
   "execution_count": 1,
   "metadata": {},
   "outputs": [
    {
     "name": "stdout",
     "output_type": "stream",
     "text": [
      "Message from receiver1: b'test 0'\n",
      "Message from receiver2: b'test 1'\n",
      "Message from receiver1: b'test 2'\n",
      "Message from receiver2: b'test 3'\n",
      "Message from receiver1: b'test 4'\n",
      "Message from receiver2: b'test 5'\n",
      "Message from receiver1: b'test 6'\n",
      "Message from receiver2: b'test 7'\n",
      "Message from receiver1: b'test 8'\n",
      "Message from receiver2: b'test 9'\n",
      "10 messages received\n"
     ]
    },
    {
     "ename": "",
     "evalue": "",
     "output_type": "error",
     "traceback": [
      "\u001b[1;31mThe Kernel crashed while executing code in the current cell or a previous cell. \n",
      "\u001b[1;31mPlease review the code in the cell(s) to identify a possible cause of the failure. \n",
      "\u001b[1;31mClick <a href='https://aka.ms/vscodeJupyterKernelCrash'>here</a> for more info. \n",
      "\u001b[1;31mView Jupyter <a href='command:jupyter.viewOutput'>log</a> for further details."
     ]
    }
   ],
   "source": [
    "import gevent\n",
    "\n",
    "from zmq import green as zmq\n",
    "\n",
    "\n",
    "# Connect to both receiving sockets and send 10 messages\n",
    "def sender():\n",
    "    sender = context.socket(zmq.PUSH)\n",
    "    sender.connect('inproc://polltest1')\n",
    "    sender.connect('inproc://polltest2')\n",
    "\n",
    "    for i in range(10):\n",
    "        sender.send(b'test %d' % i) # b is important here cant send unicode\n",
    "        gevent.sleep(1)\n",
    "\n",
    "\n",
    "# create zmq context, and bind to pull sockets\n",
    "context = zmq.Context()\n",
    "receiver1 = context.socket(zmq.PULL)\n",
    "receiver1.bind('inproc://polltest1')\n",
    "receiver2 = context.socket(zmq.PULL)\n",
    "receiver2.bind('inproc://polltest2')\n",
    "\n",
    "gevent.spawn(sender)\n",
    "\n",
    "# Create poller and register both receiver sockets\n",
    "poller = zmq.Poller()\n",
    "poller.register(receiver1, zmq.POLLIN)\n",
    "poller.register(receiver2, zmq.POLLIN)\n",
    "\n",
    "# Read 10 messages from both receiver sockets\n",
    "msgcnt = 0\n",
    "while msgcnt < 10:\n",
    "    socks = dict(poller.poll())\n",
    "    if receiver1 in socks and socks[receiver1] == zmq.POLLIN:\n",
    "        print(f\"Message from receiver1: {receiver1.recv()!r}\")\n",
    "        msgcnt += 1\n",
    "\n",
    "    if receiver2 in socks and socks[receiver2] == zmq.POLLIN:\n",
    "        print(f\"Message from receiver2: {receiver2.recv()!r}\")\n",
    "        msgcnt += 1\n",
    "\n",
    "print(f\"{msgcnt} messages received\")"
   ]
  }
 ],
 "metadata": {
  "kernelspec": {
   "display_name": "zeromq",
   "language": "python",
   "name": "python3"
  },
  "language_info": {
   "codemirror_mode": {
    "name": "ipython",
    "version": 3
   },
   "file_extension": ".py",
   "mimetype": "text/x-python",
   "name": "python",
   "nbconvert_exporter": "python",
   "pygments_lexer": "ipython3",
   "version": "3.11.9"
  }
 },
 "nbformat": 4,
 "nbformat_minor": 2
}
