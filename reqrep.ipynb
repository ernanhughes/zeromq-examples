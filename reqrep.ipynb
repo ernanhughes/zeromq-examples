{
 "cells": [
  {
   "cell_type": "code",
   "execution_count": 1,
   "metadata": {},
   "outputs": [
    {
     "ename": "",
     "evalue": "",
     "output_type": "error",
     "traceback": [
      "\u001b[1;31mThe Kernel crashed while executing code in the current cell or a previous cell. \n",
      "\u001b[1;31mPlease review the code in the cell(s) to identify a possible cause of the failure. \n",
      "\u001b[1;31mClick <a href='https://aka.ms/vscodeJupyterKernelCrash'>here</a> for more info. \n",
      "\u001b[1;31mView Jupyter <a href='command:jupyter.viewOutput'>log</a> for further details."
     ]
    }
   ],
   "source": [
    "from gevent import spawn\n",
    "\n",
    "import zmq.green as zmq\n",
    "\n",
    "# server\n",
    "context = zmq.Context()\n",
    "socket = context.socket(zmq.REP)\n",
    "socket.connect(\"tcp://localhost:5560\")\n",
    "\n",
    "\n",
    "def serve(socket):\n",
    "    while True:\n",
    "        message = socket.recv()\n",
    "        print(\"Received request: \", message)\n",
    "        socket.send(b\"World\")\n",
    "\n",
    "\n",
    "server = spawn(serve, socket)\n",
    "\n",
    "\n",
    "# client\n",
    "context = zmq.Context()\n",
    "socket = context.socket(zmq.REQ)\n",
    "socket.connect(\"tcp://localhost:5559\")\n",
    "\n",
    "\n",
    "#  Do 10 requests, waiting each time for a response\n",
    "def client():\n",
    "    for request in range(1, 10):\n",
    "        socket.send(b\"Hello\")\n",
    "        message = socket.recv()\n",
    "        print(\"Received reply \", request, \"[\", message, \"]\")\n",
    "\n",
    "\n",
    "# broker\n",
    "frontend = context.socket(zmq.ROUTER)\n",
    "backend = context.socket(zmq.DEALER)\n",
    "frontend.bind(\"tcp://*:5559\")\n",
    "backend.bind(\"tcp://*:5560\")\n",
    "\n",
    "\n",
    "def proxy(socket_from, socket_to):\n",
    "    while True:\n",
    "        m = socket_from.recv_multipart()\n",
    "        socket_to.send_multipart(m)"
   ]
  }
 ],
 "metadata": {
  "kernelspec": {
   "display_name": "zeromq",
   "language": "python",
   "name": "python3"
  },
  "language_info": {
   "codemirror_mode": {
    "name": "ipython",
    "version": 3
   },
   "file_extension": ".py",
   "mimetype": "text/x-python",
   "name": "python",
   "nbconvert_exporter": "python",
   "pygments_lexer": "ipython3",
   "version": "3.11.9"
  }
 },
 "nbformat": 4,
 "nbformat_minor": 2
}
